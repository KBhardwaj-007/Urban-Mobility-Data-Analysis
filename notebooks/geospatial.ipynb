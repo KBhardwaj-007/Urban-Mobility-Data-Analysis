{
 "cells": [
  {
   "cell_type": "code",
   "execution_count": null,
   "id": "9b315d39-adc4-4eb0-ad22-ae70e84e915f",
   "metadata": {},
   "outputs": [],
   "source": [
    "!pip install folium"
   ]
  },
  {
   "cell_type": "code",
   "execution_count": 1,
   "id": "2cbe86b2-f1f0-425f-b617-2f397df23237",
   "metadata": {},
   "outputs": [],
   "source": [
    "import pandas as pd\n",
    "import folium\n",
    "from folium.plugins import HeatMap\n",
    "import logging\n",
    "\n",
    "# Basic logging\n",
    "logging.basicConfig(level=logging.INFO, format='%(asctime)s - %(levelname)s - %(message)s')\n",
    "\n",
    "# Load all cleaned data\n",
    "df = pd.read_csv('../data/cleaned.csv')"
   ]
  },
  {
   "cell_type": "code",
   "execution_count": 2,
   "id": "87acebf0-c25e-4339-9e54-5e7dddb0691f",
   "metadata": {},
   "outputs": [
    {
     "name": "stderr",
     "output_type": "stream",
     "text": [
      "2025-09-29 01:07:18,496 - INFO - Pickup heatmap saved to data/pickup_heatmap.html\n"
     ]
    }
   ],
   "source": [
    "# 1. A base map centered on New York City\n",
    "map_center = [40.7128, -74.0060]\n",
    "pickup_map = folium.Map(location=map_center, zoom_start=11, tiles='CartoDB positron')\n",
    "\n",
    "# Heatmap layer for pickup locations\n",
    "heat_data = df[['pickup_latitude', 'pickup_longitude']].dropna().values.tolist()\n",
    "HeatMap(heat_data, radius=12).add_to(pickup_map)\n",
    "\n",
    "# Map saved to an HTML file for inspection\n",
    "pickup_map.save('../data/pickup_heatmap.html')\n",
    "logging.info(\"Pickup heatmap saved to data/pickup_heatmap.html\")\n",
    "# pickup_map"
   ]
  },
  {
   "cell_type": "code",
   "execution_count": 3,
   "id": "5c13b697-737a-41a7-a415-04bb696f7659",
   "metadata": {},
   "outputs": [
    {
     "name": "stderr",
     "output_type": "stream",
     "text": [
      "2025-09-29 01:07:34,754 - INFO - Dropoff heatmap saved to data/dropoff_heatmap.html\n"
     ]
    }
   ],
   "source": [
    "# 2. Heatmap for DROPOFF locations\n",
    "dropoff_map = folium.Map(location=map_center, zoom_start=11, tiles='CartoDB positron')\n",
    "\n",
    "# Heatmap layer for dropoff locations\n",
    "heat_data_dropoff = df[['dropoff_latitude', 'dropoff_longitude']].dropna().values.tolist()\n",
    "HeatMap(heat_data_dropoff, radius=12).add_to(dropoff_map)\n",
    "\n",
    "# Map saved to an HTML file for inspection\n",
    "dropoff_map.save('../data/dropoff_heatmap.html')\n",
    "logging.info(\"Dropoff heatmap saved to data/dropoff_heatmap.html\")\n",
    "# dropoff_map"
   ]
  }
 ],
 "metadata": {
  "kernelspec": {
   "display_name": "Python 3 (ipykernel)",
   "language": "python",
   "name": "python3"
  },
  "language_info": {
   "codemirror_mode": {
    "name": "ipython",
    "version": 3
   },
   "file_extension": ".py",
   "mimetype": "text/x-python",
   "name": "python",
   "nbconvert_exporter": "python",
   "pygments_lexer": "ipython3",
   "version": "3.10.11"
  }
 },
 "nbformat": 4,
 "nbformat_minor": 5
}
