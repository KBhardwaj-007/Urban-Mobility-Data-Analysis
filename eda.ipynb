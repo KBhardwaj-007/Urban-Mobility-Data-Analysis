{
 "cells": [
  {
   "cell_type": "code",
   "execution_count": null,
   "id": "708c8c14-9439-44df-8142-15393563802a",
   "metadata": {},
   "outputs": [],
   "source": [
    "import pandas as pd\n",
    "import matplotlib.pyplot as plt\n",
    "import seaborn as sns\n",
    "\n",
    "# Loading the cleaned dataset\n",
    "df = pd.read_csv('../data/cleaned.csv', parse_dates=['pickup_datetime'])\n",
    "df.set_index('pickup_datetime', inplace=True)"
   ]
  },
  {
   "cell_type": "code",
   "execution_count": null,
   "id": "c95f6dd5-94fc-4a20-9897-67f624ceda7a",
   "metadata": {},
   "outputs": [],
   "source": [
    "# 1. Daily Demand Trends\n",
    "plt.figure(figsize=(15, 7))\n",
    "df.resample('D').size().plot(grid=True)\n",
    "plt.title('Daily Ride Demand Trend')\n",
    "plt.xlabel('Date')\n",
    "plt.ylabel('Number of Trips')\n",
    "plt.show()"
   ]
  },
  {
   "cell_type": "code",
   "execution_count": null,
   "id": "5daab246-b720-478b-9e6d-d8e2180f3034",
   "metadata": {},
   "outputs": [],
   "source": [
    "# 2. Peak Hours Analysis\n",
    "plt.figure(figsize=(12, 6))\n",
    "hourly_demand = df.index.hour.value_counts().sort_index()\n",
    "sns.barplot(x=hourly_demand.index, y=hourly_demand.values, hue=hourly_demand.index, palette='viridis', legend=False)\n",
    "plt.title('Demand by Hour of the Day')\n",
    "plt.xlabel('Hour of Day')\n",
    "plt.ylabel('Number of Trips')\n",
    "plt.grid(axis='y', linestyle='--')\n",
    "plt.show()"
   ]
  },
  {
   "cell_type": "code",
   "execution_count": null,
   "id": "a407e313-d69d-41e4-b9de-6151cfbf745c",
   "metadata": {},
   "outputs": [],
   "source": [
    "# 3. Weekday vs. Weekend Split\n",
    "df['day_of_week'] = df.index.day_name()\n",
    "weekday_demand = df.groupby('day_of_week').size().reindex(['Monday', 'Tuesday', 'Wednesday', 'Thursday', 'Friday', 'Saturday', 'Sunday'])\n",
    "plt.figure(figsize=(10, 6))\n",
    "weekday_demand.plot(kind='bar', rot=45)\n",
    "plt.title('Demand by Day of the Week')\n",
    "plt.xlabel('Day')\n",
    "plt.ylabel('Number of Trips')\n",
    "plt.show()"
   ]
  },
  {
   "cell_type": "code",
   "execution_count": null,
   "id": "f165de84-090b-409c-9674-873c6939cf6a",
   "metadata": {},
   "outputs": [],
   "source": [
    "# 4. Demand Heatmap (Hour vs. Day of Week)\n",
    "heatmap_data = df.groupby([df.index.hour, df.index.day_name()]).size().unstack().reindex(columns=['Monday', 'Tuesday', 'Wednesday', 'Thursday', 'Friday', 'Saturday', 'Sunday'])\n",
    "plt.figure(figsize=(12, 8))\n",
    "sns.heatmap(heatmap_data, cmap='hot_r', linecolor='white', linewidths=0.5)\n",
    "plt.title('Demand Heatmap: Hour of Day vs. Day of Week')\n",
    "plt.xlabel('Day of Week')\n",
    "plt.ylabel('Hour of Day')\n",
    "plt.show()"
   ]
  },
  {
   "cell_type": "code",
   "execution_count": null,
   "id": "0bb04fd4-64ec-4fda-b8bc-1f02c37b6a6b",
   "metadata": {},
   "outputs": [],
   "source": [
    "# 5. Trip Duration Analysis\n",
    "plt.figure(figsize=(14, 6))\n",
    "sns.histplot(df['trip_duration_minutes'], bins=50, kde=True)\n",
    "plt.title('Distribution of Trip Durations (in Minutes)')\n",
    "plt.xlabel('Trip Duration (Minutes)')\n",
    "plt.show()"
   ]
  },
  {
   "cell_type": "code",
   "execution_count": null,
   "id": "6ecccb88-0e4a-4ba3-8d70-4c2bbbf01727",
   "metadata": {},
   "outputs": [],
   "source": [
    "# 6. Box Plot of Trip Duration by Day of Week\n",
    "plt.figure(figsize=(14, 7))\n",
    "\n",
    "# Plot 'trip_duration_minutes'\n",
    "sns.boxplot(data=df, x='day_of_week', y='trip_duration_minutes', order=['Monday', 'Tuesday', 'Wednesday', 'Thursday', 'Friday', 'Saturday', 'Sunday'])\n",
    "\n",
    "plt.title('Trip Duration by Day of the Week')\n",
    "plt.xlabel('Day of Week')\n",
    "plt.ylabel('Trip Duration (Minutes)')\n",
    "plt.ylim(0, 60) \n",
    "plt.show()"
   ]
  },
  {
   "cell_type": "code",
   "execution_count": null,
   "id": "aa5b26a3-0c6d-46c9-a248-20792a99e9b1",
   "metadata": {},
   "outputs": [],
   "source": []
  }
 ],
 "metadata": {
  "kernelspec": {
   "display_name": "Python 3 (ipykernel)",
   "language": "python",
   "name": "python3"
  },
  "language_info": {
   "codemirror_mode": {
    "name": "ipython",
    "version": 3
   },
   "file_extension": ".py",
   "mimetype": "text/x-python",
   "name": "python",
   "nbconvert_exporter": "python",
   "pygments_lexer": "ipython3",
   "version": "3.10.11"
  }
 },
 "nbformat": 4,
 "nbformat_minor": 5
}
